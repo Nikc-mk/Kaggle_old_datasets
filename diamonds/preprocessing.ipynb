{
 "cells": [
  {
   "cell_type": "markdown",
   "source": [
    "# Алмазы"
   ],
   "metadata": {
    "collapsed": false
   }
  },
  {
   "cell_type": "markdown",
   "source": [
    "## Описание данных\n",
    "\n",
    "price - цена в долларах США (326-18823)\n",
    "carat - вес алмаза (0,2-5,01)\n",
    "cut - качество огранки (Fair, Good, Very Good, Premium, Ideal)\n",
    "color - цвет алмаза J (худший) to D (лучший)\n",
    "clarity - чистота алмаза I1 (худший), SI2, SI1, VS2, VS1, VVS2, VVS1, IF (лучший)\n",
    "x - длина (0--10.74) мм\n",
    "y - ширина (0--58.9) мм\n",
    "z - глубина (0--31.8) мм\n",
    "depth - общая глубина = z / mean(x, y) = 2 * z / (x + y) (43--79)\n",
    "table - соотношение ширины вершины относительно самой широкой плоскости алмаза"
   ],
   "metadata": {
    "collapsed": false
   }
  },
  {
   "cell_type": "markdown",
   "source": [
    "## Подключаем библиотеки"
   ],
   "metadata": {
    "collapsed": false
   }
  },
  {
   "cell_type": "code",
   "execution_count": 2,
   "outputs": [],
   "source": [
    "import pandas as pd\n",
    "import seaborn as sns\n",
    "import sklearn\n"
   ],
   "metadata": {
    "collapsed": false
   }
  },
  {
   "cell_type": "code",
   "execution_count": 3,
   "outputs": [
    {
     "data": {
      "text/plain": "   Unnamed: 0  carat        cut color clarity  depth  table  price     x  \\\n0           1   0.23      Ideal     E     SI2   61.5   55.0    326  3.95   \n1           2   0.21    Premium     E     SI1   59.8   61.0    326  3.89   \n2           3   0.23       Good     E     VS1   56.9   65.0    327  4.05   \n3           4   0.29    Premium     I     VS2   62.4   58.0    334  4.20   \n4           5   0.31       Good     J     SI2   63.3   58.0    335  4.34   \n5           6   0.24  Very Good     J    VVS2   62.8   57.0    336  3.94   \n6           7   0.24  Very Good     I    VVS1   62.3   57.0    336  3.95   \n7           8   0.26  Very Good     H     SI1   61.9   55.0    337  4.07   \n8           9   0.22       Fair     E     VS2   65.1   61.0    337  3.87   \n9          10   0.23  Very Good     H     VS1   59.4   61.0    338  4.00   \n\n      y     z  \n0  3.98  2.43  \n1  3.84  2.31  \n2  4.07  2.31  \n3  4.23  2.63  \n4  4.35  2.75  \n5  3.96  2.48  \n6  3.98  2.47  \n7  4.11  2.53  \n8  3.78  2.49  \n9  4.05  2.39  ",
      "text/html": "<div>\n<style scoped>\n    .dataframe tbody tr th:only-of-type {\n        vertical-align: middle;\n    }\n\n    .dataframe tbody tr th {\n        vertical-align: top;\n    }\n\n    .dataframe thead th {\n        text-align: right;\n    }\n</style>\n<table border=\"1\" class=\"dataframe\">\n  <thead>\n    <tr style=\"text-align: right;\">\n      <th></th>\n      <th>Unnamed: 0</th>\n      <th>carat</th>\n      <th>cut</th>\n      <th>color</th>\n      <th>clarity</th>\n      <th>depth</th>\n      <th>table</th>\n      <th>price</th>\n      <th>x</th>\n      <th>y</th>\n      <th>z</th>\n    </tr>\n  </thead>\n  <tbody>\n    <tr>\n      <th>0</th>\n      <td>1</td>\n      <td>0.23</td>\n      <td>Ideal</td>\n      <td>E</td>\n      <td>SI2</td>\n      <td>61.5</td>\n      <td>55.0</td>\n      <td>326</td>\n      <td>3.95</td>\n      <td>3.98</td>\n      <td>2.43</td>\n    </tr>\n    <tr>\n      <th>1</th>\n      <td>2</td>\n      <td>0.21</td>\n      <td>Premium</td>\n      <td>E</td>\n      <td>SI1</td>\n      <td>59.8</td>\n      <td>61.0</td>\n      <td>326</td>\n      <td>3.89</td>\n      <td>3.84</td>\n      <td>2.31</td>\n    </tr>\n    <tr>\n      <th>2</th>\n      <td>3</td>\n      <td>0.23</td>\n      <td>Good</td>\n      <td>E</td>\n      <td>VS1</td>\n      <td>56.9</td>\n      <td>65.0</td>\n      <td>327</td>\n      <td>4.05</td>\n      <td>4.07</td>\n      <td>2.31</td>\n    </tr>\n    <tr>\n      <th>3</th>\n      <td>4</td>\n      <td>0.29</td>\n      <td>Premium</td>\n      <td>I</td>\n      <td>VS2</td>\n      <td>62.4</td>\n      <td>58.0</td>\n      <td>334</td>\n      <td>4.20</td>\n      <td>4.23</td>\n      <td>2.63</td>\n    </tr>\n    <tr>\n      <th>4</th>\n      <td>5</td>\n      <td>0.31</td>\n      <td>Good</td>\n      <td>J</td>\n      <td>SI2</td>\n      <td>63.3</td>\n      <td>58.0</td>\n      <td>335</td>\n      <td>4.34</td>\n      <td>4.35</td>\n      <td>2.75</td>\n    </tr>\n    <tr>\n      <th>5</th>\n      <td>6</td>\n      <td>0.24</td>\n      <td>Very Good</td>\n      <td>J</td>\n      <td>VVS2</td>\n      <td>62.8</td>\n      <td>57.0</td>\n      <td>336</td>\n      <td>3.94</td>\n      <td>3.96</td>\n      <td>2.48</td>\n    </tr>\n    <tr>\n      <th>6</th>\n      <td>7</td>\n      <td>0.24</td>\n      <td>Very Good</td>\n      <td>I</td>\n      <td>VVS1</td>\n      <td>62.3</td>\n      <td>57.0</td>\n      <td>336</td>\n      <td>3.95</td>\n      <td>3.98</td>\n      <td>2.47</td>\n    </tr>\n    <tr>\n      <th>7</th>\n      <td>8</td>\n      <td>0.26</td>\n      <td>Very Good</td>\n      <td>H</td>\n      <td>SI1</td>\n      <td>61.9</td>\n      <td>55.0</td>\n      <td>337</td>\n      <td>4.07</td>\n      <td>4.11</td>\n      <td>2.53</td>\n    </tr>\n    <tr>\n      <th>8</th>\n      <td>9</td>\n      <td>0.22</td>\n      <td>Fair</td>\n      <td>E</td>\n      <td>VS2</td>\n      <td>65.1</td>\n      <td>61.0</td>\n      <td>337</td>\n      <td>3.87</td>\n      <td>3.78</td>\n      <td>2.49</td>\n    </tr>\n    <tr>\n      <th>9</th>\n      <td>10</td>\n      <td>0.23</td>\n      <td>Very Good</td>\n      <td>H</td>\n      <td>VS1</td>\n      <td>59.4</td>\n      <td>61.0</td>\n      <td>338</td>\n      <td>4.00</td>\n      <td>4.05</td>\n      <td>2.39</td>\n    </tr>\n  </tbody>\n</table>\n</div>"
     },
     "execution_count": 3,
     "metadata": {},
     "output_type": "execute_result"
    }
   ],
   "source": [
    "data = pd.read_csv(\"../datasets/diamonds.csv.zip\")\n",
    "data.head(10)"
   ],
   "metadata": {
    "collapsed": false
   }
  },
  {
   "cell_type": "code",
   "execution_count": 4,
   "outputs": [
    {
     "name": "stdout",
     "output_type": "stream",
     "text": [
      "<class 'pandas.core.frame.DataFrame'>\n",
      "RangeIndex: 53940 entries, 0 to 53939\n",
      "Data columns (total 11 columns):\n",
      " #   Column      Non-Null Count  Dtype  \n",
      "---  ------      --------------  -----  \n",
      " 0   Unnamed: 0  53940 non-null  int64  \n",
      " 1   carat       53940 non-null  float64\n",
      " 2   cut         53940 non-null  object \n",
      " 3   color       53940 non-null  object \n",
      " 4   clarity     53940 non-null  object \n",
      " 5   depth       53940 non-null  float64\n",
      " 6   table       53940 non-null  float64\n",
      " 7   price       53940 non-null  int64  \n",
      " 8   x           53940 non-null  float64\n",
      " 9   y           53940 non-null  float64\n",
      " 10  z           53940 non-null  float64\n",
      "dtypes: float64(6), int64(2), object(3)\n",
      "memory usage: 4.5+ MB\n"
     ]
    }
   ],
   "source": [
    "data.info()"
   ],
   "metadata": {
    "collapsed": false
   }
  },
  {
   "cell_type": "markdown",
   "source": [
    "Признаки cut, color и clarity относятся к типу \"object\" и являются порядковыми (градация от худшего к лучшему).\n",
    "В данных нет пропусков."
   ],
   "metadata": {
    "collapsed": false
   }
  },
  {
   "cell_type": "code",
   "execution_count": 10,
   "outputs": [
    {
     "data": {
      "text/plain": "              carat         depth         table         price             x  \\\ncount  53940.000000  53940.000000  53940.000000  53940.000000  53940.000000   \nmean       0.797940     61.749405     57.457184   3932.799722      5.731157   \nstd        0.474011      1.432621      2.234491   3989.439738      1.121761   \nmin        0.200000     43.000000     43.000000    326.000000      0.000000   \n25%        0.400000     61.000000     56.000000    950.000000      4.710000   \n50%        0.700000     61.800000     57.000000   2401.000000      5.700000   \n75%        1.040000     62.500000     59.000000   5324.250000      6.540000   \nmax        5.010000     79.000000     95.000000  18823.000000     10.740000   \n\n                  y             z  \ncount  53940.000000  53940.000000  \nmean       5.734526      3.538734  \nstd        1.142135      0.705699  \nmin        0.000000      0.000000  \n25%        4.720000      2.910000  \n50%        5.710000      3.530000  \n75%        6.540000      4.040000  \nmax       58.900000     31.800000  ",
      "text/html": "<div>\n<style scoped>\n    .dataframe tbody tr th:only-of-type {\n        vertical-align: middle;\n    }\n\n    .dataframe tbody tr th {\n        vertical-align: top;\n    }\n\n    .dataframe thead th {\n        text-align: right;\n    }\n</style>\n<table border=\"1\" class=\"dataframe\">\n  <thead>\n    <tr style=\"text-align: right;\">\n      <th></th>\n      <th>carat</th>\n      <th>depth</th>\n      <th>table</th>\n      <th>price</th>\n      <th>x</th>\n      <th>y</th>\n      <th>z</th>\n    </tr>\n  </thead>\n  <tbody>\n    <tr>\n      <th>count</th>\n      <td>53940.000000</td>\n      <td>53940.000000</td>\n      <td>53940.000000</td>\n      <td>53940.000000</td>\n      <td>53940.000000</td>\n      <td>53940.000000</td>\n      <td>53940.000000</td>\n    </tr>\n    <tr>\n      <th>mean</th>\n      <td>0.797940</td>\n      <td>61.749405</td>\n      <td>57.457184</td>\n      <td>3932.799722</td>\n      <td>5.731157</td>\n      <td>5.734526</td>\n      <td>3.538734</td>\n    </tr>\n    <tr>\n      <th>std</th>\n      <td>0.474011</td>\n      <td>1.432621</td>\n      <td>2.234491</td>\n      <td>3989.439738</td>\n      <td>1.121761</td>\n      <td>1.142135</td>\n      <td>0.705699</td>\n    </tr>\n    <tr>\n      <th>min</th>\n      <td>0.200000</td>\n      <td>43.000000</td>\n      <td>43.000000</td>\n      <td>326.000000</td>\n      <td>0.000000</td>\n      <td>0.000000</td>\n      <td>0.000000</td>\n    </tr>\n    <tr>\n      <th>25%</th>\n      <td>0.400000</td>\n      <td>61.000000</td>\n      <td>56.000000</td>\n      <td>950.000000</td>\n      <td>4.710000</td>\n      <td>4.720000</td>\n      <td>2.910000</td>\n    </tr>\n    <tr>\n      <th>50%</th>\n      <td>0.700000</td>\n      <td>61.800000</td>\n      <td>57.000000</td>\n      <td>2401.000000</td>\n      <td>5.700000</td>\n      <td>5.710000</td>\n      <td>3.530000</td>\n    </tr>\n    <tr>\n      <th>75%</th>\n      <td>1.040000</td>\n      <td>62.500000</td>\n      <td>59.000000</td>\n      <td>5324.250000</td>\n      <td>6.540000</td>\n      <td>6.540000</td>\n      <td>4.040000</td>\n    </tr>\n    <tr>\n      <th>max</th>\n      <td>5.010000</td>\n      <td>79.000000</td>\n      <td>95.000000</td>\n      <td>18823.000000</td>\n      <td>10.740000</td>\n      <td>58.900000</td>\n      <td>31.800000</td>\n    </tr>\n  </tbody>\n</table>\n</div>"
     },
     "execution_count": 10,
     "metadata": {},
     "output_type": "execute_result"
    }
   ],
   "source": [
    "# удалим Unnamed\n",
    "data = data.drop(labels=['Unnamed: 0'], axis=1)\n",
    "data.describe()"
   ],
   "metadata": {
    "collapsed": false
   }
  },
  {
   "cell_type": "code",
   "execution_count": 19,
   "outputs": [
    {
     "name": "stdout",
     "output_type": "stream",
     "text": [
      "Доля алмазов со значение чистоты SI2: 0.17044864664441972\n",
      "Доля алмазов со значение чистоты SI1: 0.2422135706340378\n",
      "Доля алмазов со значение чистоты VS1: 0.15148312940304043\n",
      "Доля алмазов со значение чистоты VS2: 0.22725250278086764\n",
      "Доля алмазов со значение чистоты VVS2: 0.0939191694475343\n",
      "Доля алмазов со значение чистоты VVS1: 0.06776047460140898\n",
      "Доля алмазов со значение чистоты I1: 0.013737486095661847\n",
      "Доля алмазов со значение чистоты IF: 0.03318502039302929\n"
     ]
    }
   ],
   "source": [
    "clarity_ = data.clarity.unique()\n",
    "for i in clarity_:\n",
    "    print(f\"Доля алмазов со значение чистоты {i}: {data[data['clarity'] == i]['clarity'].count()/data['clarity'].count()}\")"
   ],
   "metadata": {
    "collapsed": false
   }
  },
  {
   "cell_type": "code",
   "execution_count": 20,
   "outputs": [
    {
     "data": {
      "text/plain": "            carat       depth       table         price           x  \\\ncount  741.000000  741.000000  741.000000    741.000000  741.000000   \nmean     1.283846   62.734278   58.303779   3924.168691    6.761093   \nstd      0.632436    2.831829    2.569386   2806.778270    1.030663   \nmin      0.300000   55.600000   52.000000    345.000000    4.330000   \n25%      0.960000   61.100000   56.000000   2080.000000    6.220000   \n50%      1.120000   62.200000   58.000000   3344.000000    6.650000   \n75%      1.510000   64.300000   60.000000   5161.000000    7.340000   \nmax      5.010000   78.200000   67.000000  18531.000000   10.740000   \n\n                y           z  \ncount  741.000000  741.000000  \nmean     6.709379    4.207908  \nstd      1.032846    0.718363  \nmin      4.290000    0.000000  \n25%      6.140000    3.860000  \n50%      6.610000    4.110000  \n75%      7.280000    4.600000  \nmax     10.540000    6.980000  ",
      "text/html": "<div>\n<style scoped>\n    .dataframe tbody tr th:only-of-type {\n        vertical-align: middle;\n    }\n\n    .dataframe tbody tr th {\n        vertical-align: top;\n    }\n\n    .dataframe thead th {\n        text-align: right;\n    }\n</style>\n<table border=\"1\" class=\"dataframe\">\n  <thead>\n    <tr style=\"text-align: right;\">\n      <th></th>\n      <th>carat</th>\n      <th>depth</th>\n      <th>table</th>\n      <th>price</th>\n      <th>x</th>\n      <th>y</th>\n      <th>z</th>\n    </tr>\n  </thead>\n  <tbody>\n    <tr>\n      <th>count</th>\n      <td>741.000000</td>\n      <td>741.000000</td>\n      <td>741.000000</td>\n      <td>741.000000</td>\n      <td>741.000000</td>\n      <td>741.000000</td>\n      <td>741.000000</td>\n    </tr>\n    <tr>\n      <th>mean</th>\n      <td>1.283846</td>\n      <td>62.734278</td>\n      <td>58.303779</td>\n      <td>3924.168691</td>\n      <td>6.761093</td>\n      <td>6.709379</td>\n      <td>4.207908</td>\n    </tr>\n    <tr>\n      <th>std</th>\n      <td>0.632436</td>\n      <td>2.831829</td>\n      <td>2.569386</td>\n      <td>2806.778270</td>\n      <td>1.030663</td>\n      <td>1.032846</td>\n      <td>0.718363</td>\n    </tr>\n    <tr>\n      <th>min</th>\n      <td>0.300000</td>\n      <td>55.600000</td>\n      <td>52.000000</td>\n      <td>345.000000</td>\n      <td>4.330000</td>\n      <td>4.290000</td>\n      <td>0.000000</td>\n    </tr>\n    <tr>\n      <th>25%</th>\n      <td>0.960000</td>\n      <td>61.100000</td>\n      <td>56.000000</td>\n      <td>2080.000000</td>\n      <td>6.220000</td>\n      <td>6.140000</td>\n      <td>3.860000</td>\n    </tr>\n    <tr>\n      <th>50%</th>\n      <td>1.120000</td>\n      <td>62.200000</td>\n      <td>58.000000</td>\n      <td>3344.000000</td>\n      <td>6.650000</td>\n      <td>6.610000</td>\n      <td>4.110000</td>\n    </tr>\n    <tr>\n      <th>75%</th>\n      <td>1.510000</td>\n      <td>64.300000</td>\n      <td>60.000000</td>\n      <td>5161.000000</td>\n      <td>7.340000</td>\n      <td>7.280000</td>\n      <td>4.600000</td>\n    </tr>\n    <tr>\n      <th>max</th>\n      <td>5.010000</td>\n      <td>78.200000</td>\n      <td>67.000000</td>\n      <td>18531.000000</td>\n      <td>10.740000</td>\n      <td>10.540000</td>\n      <td>6.980000</td>\n    </tr>\n  </tbody>\n</table>\n</div>"
     },
     "execution_count": 20,
     "metadata": {},
     "output_type": "execute_result"
    }
   ],
   "source": [
    "data[data['clarity'] == 'I1'].describe()"
   ],
   "metadata": {
    "collapsed": false
   }
  },
  {
   "cell_type": "markdown",
   "source": [
    "Доля алмазов с чистотой I1 = 1,4 %, это худшее качество чистоты, при этом максимальная цена в данной категории 18531, близка к максимальной по всем данным"
   ],
   "metadata": {
    "collapsed": false
   }
  },
  {
   "cell_type": "markdown",
   "source": [],
   "metadata": {
    "collapsed": false
   }
  }
 ],
 "metadata": {
  "kernelspec": {
   "display_name": "Python 3",
   "language": "python",
   "name": "python3"
  },
  "language_info": {
   "codemirror_mode": {
    "name": "ipython",
    "version": 2
   },
   "file_extension": ".py",
   "mimetype": "text/x-python",
   "name": "python",
   "nbconvert_exporter": "python",
   "pygments_lexer": "ipython2",
   "version": "2.7.6"
  }
 },
 "nbformat": 4,
 "nbformat_minor": 0
}
